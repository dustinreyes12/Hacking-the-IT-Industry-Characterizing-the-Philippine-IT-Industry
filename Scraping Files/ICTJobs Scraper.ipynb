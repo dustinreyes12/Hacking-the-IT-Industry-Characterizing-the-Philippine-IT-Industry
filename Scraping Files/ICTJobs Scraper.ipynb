{
 "cells": [
  {
   "cell_type": "code",
   "execution_count": 1,
   "metadata": {},
   "outputs": [],
   "source": [
    "import re\n",
    "import pandas as pd\n",
    "import numpy as np\n",
    "from time import sleep\n",
    "from selenium import webdriver\n",
    "from selenium.webdriver.common.keys import Keys"
   ]
  },
  {
   "cell_type": "code",
   "execution_count": 2,
   "metadata": {},
   "outputs": [],
   "source": [
    "driver = webdriver.Chrome(r'C:\\chromedriver')\n",
    "driver.get(r'http://www.ictjob.ph/search')\n",
    "t1 = 7\n",
    "njobs = int(driver.find_element_by_class_name('nb-jobs-found').text)\n",
    "# pg_end = int(np.ceil(njobs/20))\n",
    "pg_end = 1\n",
    "pg = 0\n",
    "\n",
    "failed = []\n",
    "while (pg < pg_end):\n",
    "\n",
    "    pg += 1\n",
    "    sleep(t1+3)\n",
    "    urls = [element.get_attribute('href').strip() for element in driver.find_elements_by_css_selector('.job-title.search-item-link')]\n",
    "    titles = [element.text.strip() for element in driver.find_elements_by_css_selector('.job-title.search-item-link')]\n",
    "    k_words = [element.text.strip() for element in driver.find_elements_by_class_name('job-keywords-card-section')]\n",
    "    location = [element.text.strip() for element in driver.find_elements_by_class_name('job-location-card-section')]\n",
    "    companies = [element.text.strip() for element in driver.find_elements_by_class_name('job-company-card-section')]\n",
    "\n",
    "    tmp_l = [titles, companies, location, k_words, urls]\n",
    "    len_chk = all(map(lambda x: len(x)==len(urls), tmp_l))\n",
    "\n",
    "    if len_chk:\n",
    "        jobs = list(zip(titles, companies, location, k_words, urls))\n",
    "        df = pd.DataFrame(jobs, columns=['title','company','location','k_words','url'])\n",
    "        df.to_csv(fr'ICTjobs/{pg}.csv', index=False)\n",
    "    else:\n",
    "        print('not the same length, skipping..')\n",
    "        failed.append(pg)\n",
    "\n",
    "    driver.find_element_by_class_name('next').click()"
   ]
  },
  {
   "cell_type": "code",
   "execution_count": 3,
   "metadata": {},
   "outputs": [],
   "source": [
    "# Enter summary csv\n",
    "\n",
    "df = pd.read_csv(r'ICTjobs/1.csv', usecols=['url'])\n",
    "url_list = [url[0] for url in df.values.tolist()]\n",
    "t1 = 7\n",
    "jobd_list = []\n",
    "for link in url_list:\n",
    "    driver = webdriver.Chrome(r'C:\\chromedriver')\n",
    "    driver.get(link)\n",
    "    sleep(t1)\n",
    "    try:\n",
    "        job_d = driver.find_element_by_class_name('contentpera').text\n",
    "        li_list = [element.text for element in driver.find_element_by_class_name('contentpera').find_elements_by_tag_name('li')]\n",
    "        jobd_list.append((link, job_d, li_list))\n",
    "        driver.close()\n",
    "    except:\n",
    "        print(f'skipping url: {link}')\n",
    "        driver.close()\n",
    "        continue\n",
    "\n",
    "df = pd.DataFrame(jobd_list, columns=['url','description', 'bullets'])\n",
    "df.to_csv('ICTjobs/desc/desc-sum.csv', index=False)"
   ]
  },
  {
   "cell_type": "code",
   "execution_count": 4,
   "metadata": {},
   "outputs": [
    {
     "name": "stdout",
     "output_type": "stream",
     "text": [
      "117\n"
     ]
    }
   ],
   "source": [
    "print(len(jobd_list))"
   ]
  },
  {
   "cell_type": "code",
   "execution_count": 3,
   "metadata": {},
   "outputs": [
    {
     "data": {
      "text/plain": [
       "'http://www.ictjob.ph/search/job/l1-support-analyst/2591'"
      ]
     },
     "execution_count": 3,
     "metadata": {},
     "output_type": "execute_result"
    }
   ],
   "source": [
    "link"
   ]
  },
  {
   "cell_type": "code",
   "execution_count": 15,
   "metadata": {},
   "outputs": [],
   "source": [
    "df = pd.read_csv('ICTjobs/1.csv')"
   ]
  },
  {
   "cell_type": "code",
   "execution_count": 16,
   "metadata": {},
   "outputs": [],
   "source": [
    "df1 = pd.read_csv('ICTjobs/desc/desc-sum.csv')"
   ]
  },
  {
   "cell_type": "code",
   "execution_count": 17,
   "metadata": {},
   "outputs": [],
   "source": [
    "df1 = df1.set_index('url')\n",
    "df = df.set_index('url')\n",
    "df_f = df1.join(df, how='inner')\n",
    "df_f = df_f.reset_index()\n",
    "df_f = df_f[['title', 'company', 'location', 'description', 'bullets', 'k_words', 'url']]\n",
    "df_f.to_csv(r'ICTjobs/ICTjobs-Summary_new.csv')"
   ]
  },
  {
   "cell_type": "code",
   "execution_count": null,
   "metadata": {},
   "outputs": [],
   "source": []
  }
 ],
 "metadata": {
  "kernelspec": {
   "display_name": "Python 3",
   "language": "python",
   "name": "python3"
  },
  "language_info": {
   "codemirror_mode": {
    "name": "ipython",
    "version": 3
   },
   "file_extension": ".py",
   "mimetype": "text/x-python",
   "name": "python",
   "nbconvert_exporter": "python",
   "pygments_lexer": "ipython3",
   "version": "3.6.8"
  }
 },
 "nbformat": 4,
 "nbformat_minor": 2
}
